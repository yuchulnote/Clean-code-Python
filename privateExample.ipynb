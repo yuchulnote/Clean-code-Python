{
 "cells": [
  {
   "cell_type": "code",
   "execution_count": 1,
   "metadata": {},
   "outputs": [],
   "source": [
    "class BankAccount:\n",
    "    def __init__(self, accountHolder):\n",
    "        # self._balance에 BankAccount 메소드는 접근할 수 있지만\n",
    "        # 이 클래스 외부의 코드는 접근하면 안된다\n",
    "        self._balance = 0\n",
    "        self._name = accountHolder\n",
    "        with open(self._name + 'Ledger.txt', 'w') as ledgerFile:\n",
    "            ledgerFile.write('Balance is 0\\n')\n",
    "            \n",
    "    \n",
    "    def deposit(self, amount):\n",
    "        if amount <= 0:\n",
    "            return  # 음수 잔고를 허용하지 않는다\n",
    "        self._balance += amount\n",
    "        with open(self._name + 'Ledger.txt', 'a') as ledgerFile:\n",
    "            ledgerFile.write('Deposit ' + str(amount) + '\\n')\n",
    "            ledgerFile.write('Balance is ' + str(self._balance) + '\\n')\n",
    "            \n",
    "            \n",
    "    def withdraw(self, amount):\n",
    "        if self._balance < amount or amount < 0:\n",
    "            return  # 잔고가 충분하지 않거나 인출 금액이 음수다\n",
    "        self._balance -= amount\n",
    "        with open(self._name + 'Ledger.txt', 'a') as ledgerFile:\n",
    "            ledgerFile.write('Withdraw ' + str(amount) + '\\n')\n",
    "            ledgerFile.write('Balance is ' + str(self._balance) + '\\n')"
   ]
  },
  {
   "cell_type": "code",
   "execution_count": 2,
   "metadata": {},
   "outputs": [],
   "source": [
    "acct = BankAccount('Alice')  # Alice를 위한 계좌를 생성한다"
   ]
  },
  {
   "cell_type": "code",
   "execution_count": 3,
   "metadata": {},
   "outputs": [],
   "source": [
    "acct.deposit(120)  # _balance는 deposit()를 통해 영향받을 수 있다"
   ]
  },
  {
   "cell_type": "code",
   "execution_count": 4,
   "metadata": {},
   "outputs": [],
   "source": [
    "acct.withdraw(40)  # _balance는 withdraw()를 통해 영향받을 수 있다"
   ]
  },
  {
   "cell_type": "code",
   "execution_count": 5,
   "metadata": {},
   "outputs": [],
   "source": [
    "# BankAccount 외부에서 _name 이나 _balance를 변경하는 것은 관례에서 벗어나지만 허용된다\n",
    "acct._balance = 100000000\n",
    "acct.withdraw(1000)"
   ]
  },
  {
   "cell_type": "code",
   "execution_count": 6,
   "metadata": {},
   "outputs": [],
   "source": [
    "acct._name = 'Bob'  # 이제부터는 Bob의 계좌 원장을 변경한다!\n",
    "acct.withdraw(1000)  # 이 인출은 BobLedger.txt에 기록된다!"
   ]
  }
 ],
 "metadata": {
  "kernelspec": {
   "display_name": "Python 3",
   "language": "python",
   "name": "python3"
  },
  "language_info": {
   "codemirror_mode": {
    "name": "ipython",
    "version": 3
   },
   "file_extension": ".py",
   "mimetype": "text/x-python",
   "name": "python",
   "nbconvert_exporter": "python",
   "pygments_lexer": "ipython3",
   "version": "3.11.4"
  }
 },
 "nbformat": 4,
 "nbformat_minor": 2
}
