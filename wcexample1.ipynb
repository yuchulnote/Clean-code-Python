{
 "cells": [
  {
   "cell_type": "code",
   "execution_count": 2,
   "metadata": {},
   "outputs": [],
   "source": [
    "import wizcoin"
   ]
  },
  {
   "cell_type": "code",
   "execution_count": 3,
   "metadata": {},
   "outputs": [
    {
     "name": "stdout",
     "output_type": "stream",
     "text": [
      "<wizcoin.WizCoin object at 0x000001D4CFCA1150>\n",
      "G: 2 S: 5 K: 99\n",
      "Total value: 1230\n",
      "Weight: 613.906 grams\n",
      "\n"
     ]
    }
   ],
   "source": [
    "purse = wizcoin.WizCoin(2, 5, 99)  # 정수들이 __init__()으로 전달된다.\n",
    "print(purse)\n",
    "print('G:', purse.galleons, \"S:\", purse.sickles, 'K:', purse.knuts)\n",
    "print('Total value:', purse.value())\n",
    "print('Weight:', purse.weightInGrams(), 'grams')\n",
    "print()"
   ]
  },
  {
   "cell_type": "code",
   "execution_count": 4,
   "metadata": {},
   "outputs": [
    {
     "name": "stdout",
     "output_type": "stream",
     "text": [
      "<wizcoin.WizCoin object at 0x000001D4CFD27ED0>\n",
      "G: 13 S: 0 K: 0\n",
      "Total value: 6409\n",
      "Weight: 404.339 grams\n"
     ]
    }
   ],
   "source": [
    "coinJar = wizcoin.WizCoin(13, 0, 0)  # 정수들이 __init__() 으로 전달된다.\n",
    "print(coinJar)\n",
    "print('G:', coinJar.galleons, \"S:\", coinJar.sickles, 'K:', coinJar.knuts)\n",
    "print('Total value:', coinJar.value())\n",
    "print('Weight:', coinJar.weightInGrams(), 'grams')"
   ]
  }
 ],
 "metadata": {
  "kernelspec": {
   "display_name": "Python 3",
   "language": "python",
   "name": "python3"
  },
  "language_info": {
   "codemirror_mode": {
    "name": "ipython",
    "version": 3
   },
   "file_extension": ".py",
   "mimetype": "text/x-python",
   "name": "python",
   "nbconvert_exporter": "python",
   "pygments_lexer": "ipython3",
   "version": "3.11.4"
  }
 },
 "nbformat": 4,
 "nbformat_minor": 2
}
