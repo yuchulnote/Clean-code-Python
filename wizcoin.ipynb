{
 "cells": [
  {
   "cell_type": "markdown",
   "metadata": {},
   "source": [
    "## wizCoin 이라는 간단한 클래스 생성하기\n",
    "\n",
    "가상의 마법사 화폐로 동전 숫자를 나타내는 WizCoin 클래스를 생성해보자.\n",
    "\n",
    "이 화폐의 기본 단위는 크넛, 시클(29크넛), 갈레온(17시클, 493크넛)이다."
   ]
  },
  {
   "cell_type": "code",
   "execution_count": null,
   "metadata": {},
   "outputs": [],
   "source": [
    "class WizCoin:\n",
    "    def __init__(self, galleons, sickles, knuts):\n",
    "        \"\"\"galleons, sickles, knuts로 새로운 WizCoin 객체를 생성한다.\"\"\"\n",
    "        self.galleons = galleons\n",
    "        self.sickles = sickles\n",
    "        self.knuts = knuts\n",
    "        # 참고: __init__() 메소드는 return문이 존재해서는 안된다.\n",
    "        \n",
    "    \n",
    "    def value(self):\n",
    "        \"\"\"이 WizCoin 객체에 포함딘 모든 동전의 가치(크넛 단위)\"\"\"\n",
    "        return (self.galleons * 17 * 29) + (self.sickles * 29) + (self.knuts)\n",
    "    \n",
    "    \n",
    "    def weightInGrams(self):\n",
    "        \"\"\"그램 단위로 동전의 무게를 반환한다.\"\"\"\n",
    "        return (self.galleons * 31.103) + (self.sickles * 11.34) + (self.knuts * 5.0)"
   ]
  },
  {
   "cell_type": "markdown",
   "metadata": {},
   "source": [
    "클래스를 정의하기 위한 class 문은 새로운 함수를 정의하는 def 문과 비슷하다. \n",
    "\n",
    "클래스 문에 이어지는 코드 블록 안에는 __init__(이니셜라이저의 약자), value(), weightInGrams() 라는 세 가지 메소드에 대한 정의가 있다.\n",
    "\n",
    "모든 메소드는 다음 절에서 살펴볼 self라는 첫 번째 파라미터를 가진다는 점에 주목하자.\n",
    "\n",
    "---\n",
    "\n",
    "관례적으로 모듈 이름은 wizcoin.py 처럼 소문자로 시작하는 반면, 클래스 이름은 WizCoin 처럼 대문자로 시작한다."
   ]
  }
 ],
 "metadata": {
  "language_info": {
   "name": "python"
  }
 },
 "nbformat": 4,
 "nbformat_minor": 2
}
